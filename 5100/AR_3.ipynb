{
 "cells": [
  {
   "cell_type": "code",
   "execution_count": 1,
   "metadata": {},
   "outputs": [],
   "source": [
    "import pandas as pd \n",
    "import numpy as np \n",
    "import scipy.stats as st \n",
    "from scipy.interpolate import interp1d\n",
    "from matplotlib import pyplot as plt \n",
    "import math\n",
    "import statistics as stats\n",
    "from sklearn.linear_model import LinearRegression\n",
    "from sklearn.metrics import mean_squared_error, r2_score\n",
    "import statsmodels.api as sm\n",
    "from sklearn.preprocessing import StandardScaler\n",
    "from sklearn.linear_model import LogisticRegression\n",
    "from sklearn.preprocessing import PolynomialFeatures "
   ]
  },
  {
   "cell_type": "code",
   "execution_count": 8,
   "metadata": {},
   "outputs": [
    {
     "name": "stdout",
     "output_type": "stream",
     "text": [
      "0.06641531883171181\n",
      "           A          B         C        D\n",
      "0   0.004610   0.382610  45.32733  0.31478\n",
      "1   0.203476  17.260518  44.51848  0.07224\n",
      "2   0.000411   0.078306  44.32612  0.01430\n",
      "3   0.000900   0.925239  44.69770  0.00526\n",
      "4   0.000850   0.271260  44.30242  0.01505\n",
      "..       ...        ...       ...      ...\n",
      "65  0.004601  10.141590  44.54921  0.06313\n",
      "66  0.010902   1.641935  44.65970  0.01427\n",
      "67  0.010370  13.263489  44.79900  0.00287\n",
      "68  0.031702  14.147771  44.18964  0.16066\n",
      "69  0.008109   8.432085  44.25669  0.01856\n",
      "\n",
      "[69 rows x 4 columns]\n"
     ]
    }
   ],
   "source": [
    "data=pd.read_csv('AR_3_U.csv',header=0,)\n",
    "data = data.dropna(how='any')#quita los valores nan del documento\n",
    "y=data.iloc[:,0]\n",
    "x=data.iloc[:,2]\n",
    "z=data.iloc[:,3]\n",
    "\n",
    "print(stats.stdev(y))\n",
    "print(data)"
   ]
  },
  {
   "cell_type": "code",
   "execution_count": 9,
   "metadata": {},
   "outputs": [
    {
     "name": "stdout",
     "output_type": "stream",
     "text": [
      "pendiente b1  -0.025965957909676447\n",
      "intercepción b0 is 1.1976930085423847\n"
     ]
    },
    {
     "data": {
      "image/png": "[encoded data removed]",
      "text/plain": [
       "<Figure size 432x288 with 1 Axes>"
      ]
     },
     "metadata": {
      "needs_background": "light"
     },
     "output_type": "display_data"
    }
   ],
   "source": [
    "n = np.size(x)\n",
    "x_mean = np.mean(x)\n",
    "y_mean = np.mean(y)\n",
    "x_mean,y_mean\n",
    "  \n",
    "Sxy = np.sum(x*y)- n*x_mean*y_mean\n",
    "Sxx = np.sum(x*x)-n*x_mean*x_mean\n",
    "  \n",
    "b1 = Sxy/Sxx\n",
    "b0 = y_mean-b1*x_mean\n",
    "print('pendiente b1 ', b1)\n",
    "print('intercepción b0 is', b0)\n",
    "  \n",
    "plt.scatter(x,y)\n",
    "xerror = z\n",
    "plt.errorbar(x,y,xerr=xerror, fmt = ' ' , ecolor='blue')\n",
    "plt.title(\"Luminosidad_5100\")\n",
    "\n",
    "y_pred = b1 * x + b0\n",
    "  \n",
    "plt.scatter(x, y, color = 'red')\n",
    "plt.plot(x, y_pred, color = 'green')\n",
    "plt.xlabel('erg/seg')\n",
    "plt.ylabel('AR_U_3')\n",
    "plt.savefig(\"Luminosidad_5100_AR_U_3.pdf\")"
   ]
  },
  {
   "cell_type": "code",
   "execution_count": 10,
   "metadata": {},
   "outputs": [
    {
     "name": "stdout",
     "output_type": "stream",
     "text": [
      "Pendiente : [[-0.02596596]\n",
      " [ 1.05043708]\n",
      " [ 1.        ]]\n",
      "Intercepción: [ 1.19769301e+00 -3.68626344e+01  2.13162821e-14]\n",
      "Errorcuadratico medio : 16.305097159050337\n",
      "Raiz del error cuadratico medio:  4.037957052650553\n",
      " Coeficiente de determinacion R2 :  0.33936207493086545\n"
     ]
    }
   ],
   "source": [
    "x=np.array(data.iloc[:,2:-1])\n",
    "y=np.array(data.iloc[:,:-1])\n",
    "x = x.reshape(-1,1)\n",
    "regression_model = LinearRegression()\n",
    "regression_model.fit(x, y)\n",
    "y_predicted = regression_model.predict(x)\n",
    "mse=mean_squared_error(y,y_predicted)\n",
    "rmse = np.sqrt(mean_squared_error(y, y_predicted))\n",
    "r2 = r2_score(y, y_predicted)\n",
    "print('Pendiente :' ,regression_model.coef_)\n",
    "print('Intercepción:', regression_model.intercept_)\n",
    "print('Errorcuadratico medio :',mse)\n",
    "print('Raiz del error cuadratico medio: ', rmse)\n",
    "print(' Coeficiente de determinacion R2 : ', r2)\n"
   ]
  },
  {
   "cell_type": "code",
   "execution_count": 13,
   "metadata": {},
   "outputs": [
    {
     "name": "stdout",
     "output_type": "stream",
     "text": [
      "1.0756176243384126\n",
      "           A          B         C        D\n",
      "0   2.268173  26.987343  45.32733  0.31478\n",
      "1   1.881388  22.662185  44.51848  0.07224\n",
      "2   0.008513   0.198709  44.32612  0.01430\n",
      "3   0.002794   1.804318  44.69770  0.00526\n",
      "5   0.005664   0.140694  44.83574  0.05485\n",
      "..       ...        ...       ...      ...\n",
      "74  1.067034  35.632593  44.78145  0.09942\n",
      "75  0.062178   2.779789  44.77507  0.07369\n",
      "76  0.001467   2.946952  44.36424  0.00708\n",
      "77  0.015819   5.823269  44.17580  0.04911\n",
      "78  0.006064   6.899561  44.40151  0.00523\n",
      "\n",
      "[78 rows x 4 columns]\n"
     ]
    }
   ],
   "source": [
    "data=pd.read_csv('AR_3_G.csv',header=0,)\n",
    "data = data.dropna(how='any')#quita los valores nan del documento\n",
    "y=data.iloc[:,0]\n",
    "x=data.iloc[:,2]\n",
    "z=data.iloc[:,3]\n",
    "\n",
    "print(stats.stdev(y))\n",
    "print(data)"
   ]
  },
  {
   "cell_type": "code",
   "execution_count": 14,
   "metadata": {},
   "outputs": [
    {
     "name": "stdout",
     "output_type": "stream",
     "text": [
      "pendiente b1  -0.268314459302911\n",
      "intercepción b0 is 12.653057447979956\n"
     ]
    },
    {
     "data": {
      "image/png": "[encoded data removed]",
      "text/plain": [
       "<Figure size 432x288 with 1 Axes>"
      ]
     },
     "metadata": {
      "needs_background": "light"
     },
     "output_type": "display_data"
    }
   ],
   "source": [
    "n = np.size(x)\n",
    "x_mean = np.mean(x)\n",
    "y_mean = np.mean(y)\n",
    "x_mean,y_mean\n",
    "  \n",
    "Sxy = np.sum(x*y)- n*x_mean*y_mean\n",
    "Sxx = np.sum(x*x)-n*x_mean*x_mean\n",
    "  \n",
    "b1 = Sxy/Sxx\n",
    "b0 = y_mean-b1*x_mean\n",
    "print('pendiente b1 ', b1)\n",
    "print('intercepción b0 is', b0)\n",
    "  \n",
    "plt.scatter(x,y)\n",
    "xerror = z\n",
    "plt.errorbar(x,y,xerr=xerror, fmt = ' ' , ecolor='blue')\n",
    "plt.title(\"Luminosidad_5100\")\n",
    "\n",
    "y_pred = b1 * x + b0\n",
    "  \n",
    "plt.scatter(x, y, color = 'red')\n",
    "plt.plot(x, y_pred, color = 'green')\n",
    "plt.xlabel('erg/seg')\n",
    "plt.ylabel('AR_G_3')\n",
    "plt.savefig(\"Luminosidad_5100_AR_G_3.pdf\")"
   ]
  },
  {
   "cell_type": "code",
   "execution_count": 15,
   "metadata": {},
   "outputs": [
    {
     "name": "stdout",
     "output_type": "stream",
     "text": [
      "Pendiente : [[-0.26831446]\n",
      " [ 1.44994107]\n",
      " [ 1.        ]]\n",
      "Intercepción: [ 1.26530574e+01 -4.96898987e+01  1.42108547e-14]\n",
      "Errorcuadratico medio : 53.87220576325699\n",
      "Raiz del error cuadratico medio:  7.33976878132118\n",
      " Coeficiente de determinacion R2 :  0.3358401778477891\n"
     ]
    }
   ],
   "source": [
    "x=np.array(data.iloc[:,2:-1])\n",
    "y=np.array(data.iloc[:,:-1])\n",
    "x = x.reshape(-1,1)\n",
    "regression_model = LinearRegression()\n",
    "regression_model.fit(x, y)\n",
    "y_predicted = regression_model.predict(x)\n",
    "mse=mean_squared_error(y,y_predicted)\n",
    "rmse = np.sqrt(mean_squared_error(y, y_predicted))\n",
    "r2 = r2_score(y, y_predicted)\n",
    "print('Pendiente :' ,regression_model.coef_)\n",
    "print('Intercepción:', regression_model.intercept_)\n",
    "print('Errorcuadratico medio :',mse)\n",
    "print('Raiz del error cuadratico medio: ', rmse)\n",
    "print(' Coeficiente de determinacion R2 : ', r2)"
   ]
  },
  {
   "cell_type": "code",
   "execution_count": 19,
   "metadata": {},
   "outputs": [
    {
     "name": "stdout",
     "output_type": "stream",
     "text": [
      "0.6781789593003302\n",
      "           A          B         C        D\n",
      "0   0.029827   7.135142  45.32733  0.31478\n",
      "1   0.939109  41.613969  44.51848  0.07224\n",
      "2   0.000273   0.074863  44.32612  0.01430\n",
      "3   0.000987   1.417666  44.69770  0.00526\n",
      "4   0.008918   6.588590  44.30242  0.01505\n",
      "..       ...        ...       ...      ...\n",
      "77  0.827421  40.138934  44.17580  0.04911\n",
      "78  0.016002   0.487726  44.40151  0.00523\n",
      "79  0.002104   3.571975  44.20654  0.02390\n",
      "80  0.450523  21.498476  44.59746  0.00671\n",
      "81  0.079751  24.066982  44.17015  0.06091\n",
      "\n",
      "[81 rows x 4 columns]\n"
     ]
    }
   ],
   "source": [
    "data=pd.read_csv('AR_3_R.csv',header=0,)\n",
    "data = data.dropna(how='any')#quita los valores nan del documento\n",
    "y=data.iloc[:,0]\n",
    "x=data.iloc[:,2]\n",
    "z=data.iloc[:,3]\n",
    "\n",
    "print(stats.stdev(y))\n",
    "print(data)"
   ]
  },
  {
   "cell_type": "code",
   "execution_count": 20,
   "metadata": {},
   "outputs": [
    {
     "name": "stdout",
     "output_type": "stream",
     "text": [
      "pendiente b1  -0.0282620639095894\n",
      "intercepción b0 is 1.5827349178353713\n"
     ]
    },
    {
     "data": {
      "image/png": "[encoded data removed]",
      "text/plain": [
       "<Figure size 432x288 with 1 Axes>"
      ]
     },
     "metadata": {
      "needs_background": "light"
     },
     "output_type": "display_data"
    }
   ],
   "source": [
    "n = np.size(x)\n",
    "x_mean = np.mean(x)\n",
    "y_mean = np.mean(y)\n",
    "x_mean,y_mean\n",
    "  \n",
    "Sxy = np.sum(x*y)- n*x_mean*y_mean\n",
    "Sxx = np.sum(x*x)-n*x_mean*x_mean\n",
    "  \n",
    "b1 = Sxy/Sxx\n",
    "b0 = y_mean-b1*x_mean\n",
    "print('pendiente b1 ', b1)\n",
    "print('intercepción b0 is', b0)\n",
    "  \n",
    "plt.scatter(x,y)\n",
    "xerror = z\n",
    "plt.errorbar(x,y,xerr=xerror, fmt = ' ' , ecolor='blue')\n",
    "plt.title(\"Luminosidad_5100\")\n",
    "\n",
    "y_pred = b1 * x + b0\n",
    "  \n",
    "plt.scatter(x, y, color = 'red')\n",
    "plt.plot(x, y_pred, color = 'green')\n",
    "plt.xlabel('erg/seg')\n",
    "plt.ylabel('AR_R_3')\n",
    "plt.savefig(\"Luminosidad_5100_AR_R_3.pdf\")"
   ]
  },
  {
   "cell_type": "code",
   "execution_count": 21,
   "metadata": {},
   "outputs": [
    {
     "name": "stdout",
     "output_type": "stream",
     "text": [
      "Pendiente : [[-0.02826206]\n",
      " [-1.52741115]\n",
      " [ 1.        ]]\n",
      "Intercepción: [ 1.58273492 78.60211609  0.        ]\n",
      "Errorcuadratico medio : 39.365077239874125\n",
      "Raiz del error cuadratico medio:  6.2741594847337225\n",
      " Coeficiente de determinacion R2 :  0.33404882305527944\n"
     ]
    }
   ],
   "source": [
    "x=np.array(data.iloc[:,2:-1])\n",
    "y=np.array(data.iloc[:,:-1])\n",
    "x = x.reshape(-1,1)\n",
    "regression_model = LinearRegression()\n",
    "regression_model.fit(x, y)\n",
    "y_predicted = regression_model.predict(x)\n",
    "mse=mean_squared_error(y,y_predicted)\n",
    "rmse = np.sqrt(mean_squared_error(y, y_predicted))\n",
    "r2 = r2_score(y, y_predicted)\n",
    "print('Pendiente :' ,regression_model.coef_)\n",
    "print('Intercepción:', regression_model.intercept_)\n",
    "print('Errorcuadratico medio :',mse)\n",
    "print('Raiz del error cuadratico medio: ', rmse)\n",
    "print(' Coeficiente de determinacion R2 : ', r2)"
   ]
  },
  {
   "cell_type": "code",
   "execution_count": 25,
   "metadata": {},
   "outputs": [
    {
     "name": "stdout",
     "output_type": "stream",
     "text": [
      "1.0625699184601847\n",
      "           A          B         C        D\n",
      "0   3.537637  22.423751  45.32733  0.31478\n",
      "1   1.243946  30.500291  44.51848  0.07224\n",
      "2   0.001194   0.242765  44.32612  0.01430\n",
      "3   0.009987   1.945550  44.69770  0.00526\n",
      "4   0.054723  16.167326  44.30242  0.01505\n",
      "..       ...        ...       ...      ...\n",
      "80  0.004317   0.918915  44.59746  0.00671\n",
      "81  0.552362  26.111676  44.17015  0.06091\n",
      "82  0.018076   1.883630  44.31297  0.01773\n",
      "83  0.002377   2.614546  44.52867  0.01500\n",
      "84  0.002957   3.476811  44.68251  0.01940\n",
      "\n",
      "[84 rows x 4 columns]\n"
     ]
    }
   ],
   "source": [
    "data=pd.read_csv('AR_3_I.csv',header=0,)\n",
    "data = data.dropna(how='any')#quita los valores nan del documento\n",
    "y=data.iloc[:,0]\n",
    "x=data.iloc[:,2]\n",
    "z=data.iloc[:,3]\n",
    "\n",
    "print(stats.stdev(y))\n",
    "print(data)"
   ]
  },
  {
   "cell_type": "code",
   "execution_count": 26,
   "metadata": {},
   "outputs": [
    {
     "name": "stdout",
     "output_type": "stream",
     "text": [
      "pendiente b1  -0.04715384530158333\n",
      "intercepción b0 is 2.5503922925431652\n"
     ]
    },
    {
     "data": {
      "image/png": "[encoded data removed]",
      "text/plain": [
       "<Figure size 432x288 with 1 Axes>"
      ]
     },
     "metadata": {
      "needs_background": "light"
     },
     "output_type": "display_data"
    }
   ],
   "source": [
    "n = np.size(x)\n",
    "x_mean = np.mean(x)\n",
    "y_mean = np.mean(y)\n",
    "x_mean,y_mean\n",
    "  \n",
    "Sxy = np.sum(x*y)- n*x_mean*y_mean\n",
    "Sxx = np.sum(x*x)-n*x_mean*x_mean\n",
    "  \n",
    "b1 = Sxy/Sxx\n",
    "b0 = y_mean-b1*x_mean\n",
    "print('pendiente b1 ', b1)\n",
    "print('intercepción b0 is', b0)\n",
    "  \n",
    "plt.scatter(x,y)\n",
    "xerror = z\n",
    "plt.errorbar(x,y,xerr=xerror, fmt = ' ' , ecolor='blue')\n",
    "plt.title(\"Luminosidad_5100\")\n",
    "\n",
    "y_pred = b1 * x + b0\n",
    "  \n",
    "plt.scatter(x, y, color = 'red')\n",
    "plt.plot(x, y_pred, color = 'green')\n",
    "plt.xlabel('erg/seg')\n",
    "plt.ylabel('AR_I_3')\n",
    "plt.savefig(\"Luminosidad_5100_AR_I_3.pdf\")"
   ]
  },
  {
   "cell_type": "code",
   "execution_count": 27,
   "metadata": {},
   "outputs": [
    {
     "name": "stdout",
     "output_type": "stream",
     "text": [
      "Pendiente : [[-0.04715385]\n",
      " [ 0.61518008]\n",
      " [ 1.        ]]\n",
      "Intercepción: [ 2.55039229e+00 -1.46584879e+01 -7.10542736e-15]\n",
      "Errorcuadratico medio : 38.10205835279347\n",
      "Raiz del error cuadratico medio:  6.172686477765858\n",
      " Coeficiente de determinacion R2 :  0.3335065123081206\n"
     ]
    }
   ],
   "source": [
    "x=np.array(data.iloc[:,2:-1])\n",
    "y=np.array(data.iloc[:,:-1])\n",
    "x = x.reshape(-1,1)\n",
    "regression_model = LinearRegression()\n",
    "regression_model.fit(x, y)\n",
    "y_predicted = regression_model.predict(x)\n",
    "mse=mean_squared_error(y,y_predicted)\n",
    "rmse = np.sqrt(mean_squared_error(y, y_predicted))\n",
    "r2 = r2_score(y, y_predicted)\n",
    "print('Pendiente :' ,regression_model.coef_)\n",
    "print('Intercepción:', regression_model.intercept_)\n",
    "print('Errorcuadratico medio :',mse)\n",
    "print('Raiz del error cuadratico medio: ', rmse)\n",
    "print(' Coeficiente de determinacion R2 : ', r2)"
   ]
  },
  {
   "cell_type": "code",
   "execution_count": 28,
   "metadata": {
    "scrolled": true
   },
   "outputs": [
    {
     "name": "stdout",
     "output_type": "stream",
     "text": [
      "0.06836162210600644\n",
      "           A          B  Unnamed: 2  Unnamed: 3\n",
      "0   0.015796  16.856544    45.32733     0.31478\n",
      "1   0.004108   6.532813    44.51848     0.07224\n",
      "2   0.001945   8.399408    44.32612     0.01430\n",
      "3   0.016365   2.586329    44.69770     0.00526\n",
      "4   0.044795  14.814978    44.30242     0.01505\n",
      "..       ...        ...         ...         ...\n",
      "73  0.001407   7.387118    44.56043     0.21451\n",
      "74  0.000691   0.497308    44.78145     0.09942\n",
      "75  0.001740   6.482151    44.77507     0.07369\n",
      "76  0.009758  17.643612    44.36424     0.00708\n",
      "77  0.081303  19.322293    44.17580     0.04911\n",
      "\n",
      "[78 rows x 4 columns]\n"
     ]
    }
   ],
   "source": [
    "data=pd.read_csv('AR_3_Z.csv',header=0,)\n",
    "data = data.dropna(how='any')#quita los valores nan del documento\n",
    "y=data.iloc[:,0]\n",
    "x=data.iloc[:,2]\n",
    "z=data.iloc[:,3]\n",
    "\n",
    "print(stats.stdev(y))\n",
    "print(data)"
   ]
  },
  {
   "cell_type": "code",
   "execution_count": 29,
   "metadata": {},
   "outputs": [
    {
     "name": "stdout",
     "output_type": "stream",
     "text": [
      "pendiente b1  0.02495648942946165\n",
      "intercepción b0 is -1.0806611792170742\n"
     ]
    },
    {
     "data": {
      "image/png": "[encoded data removed]",
      "text/plain": [
       "<Figure size 432x288 with 1 Axes>"
      ]
     },
     "metadata": {
      "needs_background": "light"
     },
     "output_type": "display_data"
    }
   ],
   "source": [
    "n = np.size(x)\n",
    "x_mean = np.mean(x)\n",
    "y_mean = np.mean(y)\n",
    "x_mean,y_mean\n",
    "  \n",
    "Sxy = np.sum(x*y)- n*x_mean*y_mean\n",
    "Sxx = np.sum(x*x)-n*x_mean*x_mean\n",
    "  \n",
    "b1 = Sxy/Sxx\n",
    "b0 = y_mean-b1*x_mean\n",
    "print('pendiente b1 ', b1)\n",
    "print('intercepción b0 is', b0)\n",
    "  \n",
    "plt.scatter(x,y)\n",
    "xerror = z\n",
    "plt.errorbar(x,y,xerr=xerror, fmt = ' ' , ecolor='blue')\n",
    "plt.title(\"Luminosidad_5100\")\n",
    "\n",
    "y_pred = b1 * x + b0\n",
    "  \n",
    "plt.scatter(x, y, color = 'red')\n",
    "plt.plot(x, y_pred, color = 'green')\n",
    "plt.xlabel('erg/seg')\n",
    "plt.ylabel('AR_Z_3')\n",
    "plt.savefig(\"Luminosidad_5100_AR_Z_3.pdf\")"
   ]
  },
  {
   "cell_type": "code",
   "execution_count": 30,
   "metadata": {},
   "outputs": [
    {
     "name": "stdout",
     "output_type": "stream",
     "text": [
      "Pendiente : [[0.02495649]\n",
      " [4.50380453]\n",
      " [1.        ]]\n",
      "Intercepción: [  -1.08066118 -188.78479293    0.        ]\n",
      "Errorcuadratico medio : 23.055864819841428\n",
      "Raiz del error cuadratico medio:  4.801652301014873\n",
      " Coeficiente de determinacion R2 :  0.34725114193504997\n"
     ]
    }
   ],
   "source": [
    "x=np.array(data.iloc[:,2:-1])\n",
    "y=np.array(data.iloc[:,:-1])\n",
    "x = x.reshape(-1,1)\n",
    "regression_model = LinearRegression()\n",
    "regression_model.fit(x, y)\n",
    "y_predicted = regression_model.predict(x)\n",
    "mse=mean_squared_error(y,y_predicted)\n",
    "rmse = np.sqrt(mean_squared_error(y, y_predicted))\n",
    "r2 = r2_score(y, y_predicted)\n",
    "print('Pendiente :' ,regression_model.coef_)\n",
    "print('Intercepción:', regression_model.intercept_)\n",
    "print('Errorcuadratico medio :',mse)\n",
    "print('Raiz del error cuadratico medio: ', rmse)\n",
    "print(' Coeficiente de determinacion R2 : ', r2)"
   ]
  }
 ],
 "metadata": {
  "kernelspec": {
   "display_name": "Python 3",
   "language": "python",
   "name": "python3"
  },
  "language_info": {
   "codemirror_mode": {
    "name": "ipython",
    "version": 3
   },
   "file_extension": ".py",
   "mimetype": "text/x-python",
   "name": "python",
   "nbconvert_exporter": "python",
   "pygments_lexer": "ipython3",
   "version": "3.6.9"
  }
 },
 "nbformat": 4,
 "nbformat_minor": 4
}
