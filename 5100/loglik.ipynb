{
 "cells": [
  {
   "cell_type": "code",
   "execution_count": 1,
   "metadata": {},
   "outputs": [],
   "source": [
    "import pandas as pd \n",
    "import numpy as np \n",
    "import scipy.stats as st \n",
    "from scipy.interpolate import interp1d\n",
    "from matplotlib import pyplot as plt \n",
    "import math\n",
    "import statistics as stats\n",
    "from sklearn.linear_model import LinearRegression\n",
    "from sklearn.metrics import mean_squared_error, r2_score\n",
    "import statsmodels.api as sm\n",
    "from sklearn.preprocessing import StandardScaler\n",
    "from sklearn.linear_model import LogisticRegression\n",
    "from sklearn.preprocessing import PolynomialFeatures "
   ]
  },
  {
   "cell_type": "code",
   "execution_count": 2,
   "metadata": {},
   "outputs": [
    {
     "name": "stdout",
     "output_type": "stream",
     "text": [
      "0.3160503023091078\n",
      "             A         B         C        D\n",
      "0   106.092218  1.789340  45.32733  0.31478\n",
      "1   114.110142  1.738364  44.51848  0.07224\n",
      "2    67.115742  1.652795  44.32612  0.01430\n",
      "3    71.672233  1.583762  44.69770  0.00526\n",
      "4    90.909547  1.739032  44.30242  0.01505\n",
      "..         ...       ...       ...      ...\n",
      "74   87.593373  1.802471  44.78145  0.09942\n",
      "75   52.631167  1.572969  44.77507  0.07369\n",
      "76  107.433101  1.874277  44.36424  0.00708\n",
      "77   44.077425  1.467471  44.17580  0.04911\n",
      "78   67.595756  1.500005  44.40151  0.00523\n",
      "\n",
      "[79 rows x 4 columns]\n"
     ]
    }
   ],
   "source": [
    "data=pd.read_csv('loglik_U.csv',header=0,)\n",
    "data = data.dropna(how='any')#quita los valores nan del documento\n",
    "y=data.iloc[:,0]\n",
    "w=data.iloc[:,1]\n",
    "x=data.iloc[:,2]\n",
    "z=data.iloc[:,3]\n",
    "\n",
    "print(stats.stdev(x))\n",
    "\n",
    "print(data)"
   ]
  },
  {
   "cell_type": "code",
   "execution_count": 3,
   "metadata": {},
   "outputs": [
    {
     "name": "stdout",
     "output_type": "stream",
     "text": [
      "pendiente b1  0.5055576985860193\n",
      "intercepción b0 is 54.60299966072928\n"
     ]
    },
    {
     "data": {
      "image/png": "[encoded data removed]",
      "text/plain": [
       "<Figure size 432x288 with 1 Axes>"
      ]
     },
     "metadata": {
      "needs_background": "light"
     },
     "output_type": "display_data"
    }
   ],
   "source": [
    "n = np.size(x)\n",
    "x_mean = np.mean(x)\n",
    "y_mean = np.mean(y)\n",
    "x_mean,y_mean\n",
    "  \n",
    "Sxy = np.sum(x*y)- n*x_mean*y_mean\n",
    "Sxx = np.sum(x*x)-n*x_mean*x_mean\n",
    "  \n",
    "b1 = Sxy/Sxx\n",
    "b0 = y_mean-b1*x_mean\n",
    "print('pendiente b1 ', b1)\n",
    "print('intercepción b0 is', b0)\n",
    "  \n",
    "plt.scatter(x,y)\n",
    "xerror = z\n",
    "plt.errorbar(x,y,xerr=xerror, fmt = ' ' , ecolor='blue')\n",
    "plt.title(\"Luminosidad_5100\")\n",
    "\n",
    "y_pred = b1 * x + b0\n",
    "  \n",
    "plt.scatter(x, y, color = 'red')\n",
    "plt.plot(x, y_pred, color = 'green')\n",
    "plt.xlabel('erg/seg')\n",
    "plt.ylabel('loglik_U')\n",
    "plt.savefig(\"Luminosidad_5100_loglik_U.pdf\")"
   ]
  },
  {
   "cell_type": "code",
   "execution_count": 4,
   "metadata": {},
   "outputs": [
    {
     "name": "stdout",
     "output_type": "stream",
     "text": [
      "Pendiente : [[ 0.5055577]\n",
      " [-0.1500014]\n",
      " [ 1.       ]]\n",
      "Intercepción: [5.46029997e+01 8.41491034e+00 2.13162821e-14]\n",
      "Errorcuadratico medio : 319.16124392131206\n",
      "Raiz del error cuadratico medio:  17.86508449242018\n",
      " Coeficiente de determinacion R2 :  0.3406089135365362\n"
     ]
    }
   ],
   "source": [
    "x=np.array(data.iloc[:,2:-1])\n",
    "y=np.array(data.iloc[:,:-1])\n",
    "x = x.reshape(-1,1)\n",
    "regression_model = LinearRegression()\n",
    "regression_model.fit(x, y)\n",
    "y_predicted = regression_model.predict(x)\n",
    "mse=mean_squared_error(y,y_predicted)\n",
    "rmse = np.sqrt(mean_squared_error(y, y_predicted))\n",
    "r2 = r2_score(y, y_predicted)\n",
    "print('Pendiente :' ,regression_model.coef_)\n",
    "print('Intercepción:', regression_model.intercept_)\n",
    "print('Errorcuadratico medio :',mse)\n",
    "print('Raiz del error cuadratico medio: ', rmse)\n",
    "print(' Coeficiente de determinacion R2 : ', r2)\n"
   ]
  },
  {
   "cell_type": "code",
   "execution_count": 5,
   "metadata": {},
   "outputs": [
    {
     "name": "stdout",
     "output_type": "stream",
     "text": [
      "0.3149958895049263\n",
      "             A         B         C        D\n",
      "0   130.202316  1.949627  45.32733  0.31478\n",
      "1   149.906770  2.918206  44.51848  0.07224\n",
      "2   105.104500  1.736560  44.32612  0.01430\n",
      "3    98.717990  1.618173  44.69770  0.00526\n",
      "4   125.089477  2.485903  44.30242  0.01505\n",
      "..         ...       ...       ...      ...\n",
      "76   79.302025  2.318572  44.36424  0.00708\n",
      "77  142.622398  2.060666  44.17580  0.04911\n",
      "78  125.122405  1.571475  44.40151  0.00523\n",
      "79  101.864754  1.809948  44.20654  0.02390\n",
      "80  125.646016  1.640120  44.59746  0.00671\n",
      "\n",
      "[81 rows x 4 columns]\n"
     ]
    }
   ],
   "source": [
    "data=pd.read_csv('loglik_G.csv',header=0,)\n",
    "data = data.dropna(how='any')#quita los valores nan del documento\n",
    "y=data.iloc[:,0]\n",
    "w=data.iloc[:,1]\n",
    "x=data.iloc[:,2]\n",
    "z=data.iloc[:,3]\n",
    "\n",
    "print(stats.stdev(x))\n",
    "print(data)"
   ]
  },
  {
   "cell_type": "code",
   "execution_count": 6,
   "metadata": {},
   "outputs": [
    {
     "name": "stdout",
     "output_type": "stream",
     "text": [
      "pendiente b1  17.082643756330164\n",
      "intercepción b0 is -642.2961411655184\n"
     ]
    },
    {
     "data": {
      "image/png": "[encoded data removed]",
      "text/plain": [
       "<Figure size 432x288 with 1 Axes>"
      ]
     },
     "metadata": {
      "needs_background": "light"
     },
     "output_type": "display_data"
    }
   ],
   "source": [
    "n = np.size(x)\n",
    "x_mean = np.mean(x)\n",
    "y_mean = np.mean(y)\n",
    "x_mean,y_mean\n",
    "  \n",
    "Sxy = np.sum(x*y)- n*x_mean*y_mean\n",
    "Sxx = np.sum(x*x)-n*x_mean*x_mean\n",
    "  \n",
    "b1 = Sxy/Sxx\n",
    "b0 = y_mean-b1*x_mean\n",
    "print('pendiente b1 ', b1)\n",
    "print('intercepción b0 is', b0)\n",
    "  \n",
    "plt.scatter(x,y)\n",
    "xerror = z\n",
    "plt.errorbar(x,y,xerr=xerror, fmt = ' ' , ecolor='blue')\n",
    "plt.title(\"Luminosidad_5100\")\n",
    "\n",
    "y_pred = b1 * x + b0\n",
    "  \n",
    "plt.scatter(x, y, color = 'red')\n",
    "plt.plot(x, y_pred, color = 'green')\n",
    "plt.xlabel('erg/seg')\n",
    "plt.ylabel('loglik_G')\n",
    "plt.savefig(\"Luminosidad_5100_loglik_G.pdf\")"
   ]
  },
  {
   "cell_type": "code",
   "execution_count": 7,
   "metadata": {},
   "outputs": [
    {
     "name": "stdout",
     "output_type": "stream",
     "text": [
      "Pendiente : [[17.08264376]\n",
      " [ 0.09252374]\n",
      " [ 1.        ]]\n",
      "Intercepción: [-6.42296141e+02 -2.03047724e+00  1.42108547e-14]\n",
      "Errorcuadratico medio : 340.45299260364055\n",
      "Raiz del error cuadratico medio:  18.45136831250302\n",
      " Coeficiente de determinacion R2 :  0.3440835423300199\n"
     ]
    }
   ],
   "source": [
    "x=np.array(data.iloc[:,2:-1])\n",
    "y=np.array(data.iloc[:,:-1])\n",
    "x = x.reshape(-1,1)\n",
    "regression_model = LinearRegression()\n",
    "regression_model.fit(x, y)\n",
    "y_predicted = regression_model.predict(x)\n",
    "mse=mean_squared_error(y,y_predicted)\n",
    "rmse = np.sqrt(mean_squared_error(y, y_predicted))\n",
    "r2 = r2_score(y, y_predicted)\n",
    "print('Pendiente :' ,regression_model.coef_)\n",
    "print('Intercepción:', regression_model.intercept_)\n",
    "print('Errorcuadratico medio :',mse)\n",
    "print('Raiz del error cuadratico medio: ', rmse)\n",
    "print(' Coeficiente de determinacion R2 : ', r2)"
   ]
  },
  {
   "cell_type": "code",
   "execution_count": 8,
   "metadata": {
    "scrolled": true
   },
   "outputs": [
    {
     "name": "stdout",
     "output_type": "stream",
     "text": [
      "0.31399638095223986\n",
      "             A         B         C        D\n",
      "0   154.399355  1.829780  45.32733  0.31478\n",
      "1   150.212161  2.298551  44.51848  0.07224\n",
      "2   109.168604  1.641570  44.32612  0.01430\n",
      "3   117.038446  1.661915  44.69770  0.00526\n",
      "4   131.885924  1.702738  44.30242  0.01505\n",
      "..         ...       ...       ...      ...\n",
      "79   71.170227  2.307091  44.20654  0.02390\n",
      "80  158.449949  1.782129  44.59746  0.00671\n",
      "81  137.917820  1.547206  44.17015  0.06091\n",
      "82  106.393878  2.398750  44.31297  0.01773\n",
      "83  119.673020  2.125404  44.52867  0.01500\n",
      "\n",
      "[84 rows x 4 columns]\n"
     ]
    }
   ],
   "source": [
    "data=pd.read_csv('loglik_R.csv',header=0,)\n",
    "data = data.dropna(how='any')#quita los valores nan del documento\n",
    "y=data.iloc[:,0]\n",
    "w=data.iloc[:,1]\n",
    "x=data.iloc[:,2]\n",
    "z=data.iloc[:,3]\n",
    "print(stats.stdev(x))\n",
    "print(data)"
   ]
  },
  {
   "cell_type": "code",
   "execution_count": 9,
   "metadata": {},
   "outputs": [
    {
     "name": "stdout",
     "output_type": "stream",
     "text": [
      "pendiente b1  0.007064570637911309\n",
      "intercepción b0 is 128.7973180975437\n"
     ]
    },
    {
     "data": {
      "image/png": "[encoded data removed]",
      "text/plain": [
       "<Figure size 432x288 with 1 Axes>"
      ]
     },
     "metadata": {
      "needs_background": "light"
     },
     "output_type": "display_data"
    }
   ],
   "source": [
    "n = np.size(x)\n",
    "x_mean = np.mean(x)\n",
    "y_mean = np.mean(y)\n",
    "x_mean,y_mean\n",
    "  \n",
    "Sxy = np.sum(x*y)- n*x_mean*y_mean\n",
    "Sxx = np.sum(x*x)-n*x_mean*x_mean\n",
    "  \n",
    "b1 = Sxy/Sxx\n",
    "b0 = y_mean-b1*x_mean\n",
    "print('pendiente b1 ', b1)\n",
    "print('intercepción b0 is', b0)\n",
    "  \n",
    "plt.scatter(x,y)\n",
    "xerror = z\n",
    "plt.errorbar(x,y,xerr=xerror, fmt = ' ' , ecolor='blue')\n",
    "plt.title(\"Luminosidad_5100\")\n",
    "\n",
    "y_pred = b1 * x + b0\n",
    "  \n",
    "plt.scatter(x, y, color = 'red')\n",
    "plt.plot(x, y_pred, color = 'green')\n",
    "plt.xlabel('erg/seg')\n",
    "plt.ylabel('loglik_R')\n",
    "plt.savefig(\"Luminosidad_5100_loglik_R.pdf\")"
   ]
  },
  {
   "cell_type": "code",
   "execution_count": 10,
   "metadata": {},
   "outputs": [
    {
     "name": "stdout",
     "output_type": "stream",
     "text": [
      "Pendiente : [[ 0.00706457]\n",
      " [-5.4449269 ]\n",
      " [ 1.        ]]\n",
      "Intercepción: [128.7973181  245.99097543   0.        ]\n",
      "Errorcuadratico medio : 421.62372076811204\n",
      "Raiz del error cuadratico medio:  20.533478048497095\n",
      " Coeficiente de determinacion R2 :  0.3398183762359193\n"
     ]
    }
   ],
   "source": [
    "x=np.array(data.iloc[:,2:-1])\n",
    "y=np.array(data.iloc[:,:-1])\n",
    "x = x.reshape(-1,1)\n",
    "regression_model = LinearRegression()\n",
    "regression_model.fit(x, y)\n",
    "y_predicted = regression_model.predict(x)\n",
    "mse=mean_squared_error(y,y_predicted)\n",
    "rmse = np.sqrt(mean_squared_error(y, y_predicted))\n",
    "r2 = r2_score(y, y_predicted)\n",
    "print('Pendiente :' ,regression_model.coef_)\n",
    "print('Intercepción:', regression_model.intercept_)\n",
    "print('Errorcuadratico medio :',mse)\n",
    "print('Raiz del error cuadratico medio: ', rmse)\n",
    "print(' Coeficiente de determinacion R2 : ', r2)"
   ]
  },
  {
   "cell_type": "code",
   "execution_count": 11,
   "metadata": {},
   "outputs": [
    {
     "name": "stdout",
     "output_type": "stream",
     "text": [
      "0.31585761136055107\n",
      "             A         B         C        D\n",
      "0   141.824069  3.040497  45.32733  0.31478\n",
      "1   151.780281  2.574591  44.51848  0.07224\n",
      "2    92.614660  1.641891  44.32612  0.01430\n",
      "3   110.824485  2.394953  44.69770  0.00526\n",
      "4   112.537535  2.833369  44.30242  0.01505\n",
      "..         ...       ...       ...      ...\n",
      "78   79.807502  2.168904  44.40151  0.00523\n",
      "79  144.270285  2.269053  44.20654  0.02390\n",
      "80  114.551377  2.619182  44.59746  0.00671\n",
      "81  109.263898  1.813485  44.17015  0.06091\n",
      "82  111.509776  2.350403  44.31297  0.01773\n",
      "\n",
      "[83 rows x 4 columns]\n"
     ]
    }
   ],
   "source": [
    "data=pd.read_csv('loglik_I.csv',header=0,)\n",
    "data = data.dropna(how='any')#quita los valores nan del documento\n",
    "y=data.iloc[:,0]\n",
    "w=data.iloc[:,1]\n",
    "x=data.iloc[:,2]\n",
    "z=data.iloc[:,3]\n",
    "\n",
    "print(stats.stdev(x))\n",
    "print(data)"
   ]
  },
  {
   "cell_type": "code",
   "execution_count": 12,
   "metadata": {},
   "outputs": [
    {
     "name": "stdout",
     "output_type": "stream",
     "text": [
      "pendiente b1  -0.4770302299033354\n",
      "intercepción b0 is 143.50349629144947\n"
     ]
    },
    {
     "data": {
      "image/png": "[encoded data removed]",
      "text/plain": [
       "<Figure size 432x288 with 1 Axes>"
      ]
     },
     "metadata": {
      "needs_background": "light"
     },
     "output_type": "display_data"
    }
   ],
   "source": [
    "n = np.size(x)\n",
    "x_mean = np.mean(x)\n",
    "y_mean = np.mean(y)\n",
    "x_mean,y_mean\n",
    "  \n",
    "Sxy = np.sum(x*y)- n*x_mean*y_mean\n",
    "Sxx = np.sum(x*x)-n*x_mean*x_mean\n",
    "  \n",
    "b1 = Sxy/Sxx\n",
    "b0 = y_mean-b1*x_mean\n",
    "print('pendiente b1 ', b1)\n",
    "print('intercepción b0 is', b0)\n",
    "  \n",
    "plt.scatter(x,y)\n",
    "xerror = z\n",
    "plt.errorbar(x,y,xerr=xerror, fmt = ' ' , ecolor='blue')\n",
    "plt.title(\"Luminosidad_5100\")\n",
    "\n",
    "y_pred = b1 * x + b0\n",
    "  \n",
    "plt.scatter(x, y, color = 'red')\n",
    "plt.plot(x, y_pred, color = 'green')\n",
    "plt.xlabel('erg/seg')\n",
    "plt.ylabel('loglik_I')\n",
    "plt.savefig(\"Luminosidad_5100_loglik_I.pdf\")"
   ]
  },
  {
   "cell_type": "code",
   "execution_count": 13,
   "metadata": {},
   "outputs": [
    {
     "name": "stdout",
     "output_type": "stream",
     "text": [
      "Pendiente : [[-0.47703023]\n",
      " [-0.06589424]\n",
      " [ 1.        ]]\n",
      "Intercepción: [1.43503496e+02 5.02092092e+00 7.10542736e-15]\n",
      "Errorcuadratico medio : 380.53518251115105\n",
      "Raiz del error cuadratico medio:  19.507311001548906\n",
      " Coeficiente de determinacion R2 :  0.33395559108364453\n"
     ]
    }
   ],
   "source": [
    "x=np.array(data.iloc[:,2:-1])\n",
    "y=np.array(data.iloc[:,:-1])\n",
    "x = x.reshape(-1,1)\n",
    "regression_model = LinearRegression()\n",
    "regression_model.fit(x, y)\n",
    "y_predicted = regression_model.predict(x)\n",
    "mse=mean_squared_error(y,y_predicted)\n",
    "rmse = np.sqrt(mean_squared_error(y, y_predicted))\n",
    "r2 = r2_score(y, y_predicted)\n",
    "print('Pendiente :' ,regression_model.coef_)\n",
    "print('Intercepción:', regression_model.intercept_)\n",
    "print('Errorcuadratico medio :',mse)\n",
    "print('Raiz del error cuadratico medio: ', rmse)\n",
    "print(' Coeficiente de determinacion R2 : ', r2)"
   ]
  },
  {
   "cell_type": "code",
   "execution_count": 14,
   "metadata": {},
   "outputs": [
    {
     "name": "stdout",
     "output_type": "stream",
     "text": [
      "0.31698102669081274\n",
      "             A         B         C        D\n",
      "0   137.892281  1.687340  45.32733  0.31478\n",
      "1   113.125078  1.561252  44.51848  0.07224\n",
      "2    54.439427  1.585758  44.32612  0.01430\n",
      "3    65.567099  1.576602  44.69770  0.00526\n",
      "4   100.513633  1.802875  44.30242  0.01505\n",
      "..         ...       ...       ...      ...\n",
      "75   36.862623  1.729207  44.77507  0.07369\n",
      "76  120.631785  1.557431  44.36424  0.00708\n",
      "77  108.378965  1.522773  44.17580  0.04911\n",
      "78   57.735250  1.645357  44.40151  0.00523\n",
      "79   83.256750  1.383682  44.20654  0.02390\n",
      "\n",
      "[80 rows x 4 columns]\n"
     ]
    }
   ],
   "source": [
    "data=pd.read_csv('loglik_Z.csv',header=0,)\n",
    "data = data.dropna(how='any')#quita los valores nan del documento\n",
    "y=data.iloc[:,0]\n",
    "w=data.iloc[:,1]\n",
    "x=data.iloc[:,2]\n",
    "z=data.iloc[:,3]\n",
    "print(stats.stdev(x))\n",
    "print(data)"
   ]
  },
  {
   "cell_type": "code",
   "execution_count": 15,
   "metadata": {},
   "outputs": [
    {
     "name": "stdout",
     "output_type": "stream",
     "text": [
      "pendiente b1  11.403203557967341\n",
      "intercepción b0 is -422.8450921939754\n"
     ]
    },
    {
     "data": {
      "image/png": "[encoded data removed]",
      "text/plain": [
       "<Figure size 432x288 with 1 Axes>"
      ]
     },
     "metadata": {
      "needs_background": "light"
     },
     "output_type": "display_data"
    }
   ],
   "source": [
    "n = np.size(x)\n",
    "x_mean = np.mean(x)\n",
    "y_mean = np.mean(y)\n",
    "x_mean,y_mean\n",
    "  \n",
    "Sxy = np.sum(x*y)- n*x_mean*y_mean\n",
    "Sxx = np.sum(x*x)-n*x_mean*x_mean\n",
    "  \n",
    "b1 = Sxy/Sxx\n",
    "b0 = y_mean-b1*x_mean\n",
    "print('pendiente b1 ', b1)\n",
    "print('intercepción b0 is', b0)\n",
    "  \n",
    "plt.scatter(x,y)\n",
    "xerror = z\n",
    "plt.errorbar(x,y,xerr=xerror, fmt = ' ' , ecolor='blue')\n",
    "plt.title(\"Luminosidad_5100\")\n",
    "\n",
    "y_pred = b1 * x + b0\n",
    "  \n",
    "plt.scatter(x, y, color = 'red')\n",
    "plt.plot(x, y_pred, color = 'green')\n",
    "plt.xlabel('erg/seg')\n",
    "plt.ylabel('loglik_Z')\n",
    "plt.savefig(\"Luminosidad_5100_loglik_Z.pdf\")"
   ]
  },
  {
   "cell_type": "code",
   "execution_count": 16,
   "metadata": {},
   "outputs": [
    {
     "name": "stdout",
     "output_type": "stream",
     "text": [
      "Pendiente : [[11.40320356]\n",
      " [ 1.36746607]\n",
      " [ 1.        ]]\n",
      "Intercepción: [-422.8450922   -58.36140068    0.        ]\n",
      "Errorcuadratico medio : 441.38122533181627\n",
      "Raiz del error cuadratico medio:  21.009074832838696\n",
      " Coeficiente de determinacion R2 :  0.33771022872953615\n"
     ]
    }
   ],
   "source": [
    "x=np.array(data.iloc[:,2:-1])\n",
    "y=np.array(data.iloc[:,:-1])\n",
    "x = x.reshape(-1,1)\n",
    "regression_model = LinearRegression()\n",
    "regression_model.fit(x, y)\n",
    "y_predicted = regression_model.predict(x)\n",
    "mse=mean_squared_error(y,y_predicted)\n",
    "rmse = np.sqrt(mean_squared_error(y, y_predicted))\n",
    "r2 = r2_score(y, y_predicted)\n",
    "print('Pendiente :' ,regression_model.coef_)\n",
    "print('Intercepción:', regression_model.intercept_)\n",
    "print('Errorcuadratico medio :',mse)\n",
    "print('Raiz del error cuadratico medio: ', rmse)\n",
    "print(' Coeficiente de determinacion R2 : ', r2)"
   ]
  }
 ],
 "metadata": {
  "kernelspec": {
   "display_name": "Python 3",
   "language": "python",
   "name": "python3"
  },
  "language_info": {
   "codemirror_mode": {
    "name": "ipython",
    "version": 3
   },
   "file_extension": ".py",
   "mimetype": "text/x-python",
   "name": "python",
   "nbconvert_exporter": "python",
   "pygments_lexer": "ipython3",
   "version": "3.6.9"
  }
 },
 "nbformat": 4,
 "nbformat_minor": 4
}
