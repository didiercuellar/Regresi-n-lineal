{
 "cells": [
  {
   "cell_type": "code",
   "execution_count": 43,
   "id": "5d3742a7",
   "metadata": {},
   "outputs": [],
   "source": [
    "import pandas as pd \n",
    "import numpy as np \n",
    "import scipy.stats as st \n",
    "from scipy.interpolate import interp1d\n",
    "from matplotlib import pyplot as plt \n",
    "import math\n",
    "import statistics as stats\n",
    "from sklearn.linear_model import LinearRegression\n",
    "from sklearn.metrics import mean_squared_error, r2_score\n",
    "import statsmodels.api as sm\n",
    "from sklearn.preprocessing import StandardScaler\n",
    "from sklearn.linear_model import LogisticRegression\n",
    "from sklearn.preprocessing import PolynomialFeatures "
   ]
  },
  {
   "cell_type": "code",
   "execution_count": 44,
   "id": "b033f886",
   "metadata": {
    "scrolled": true
   },
   "outputs": [
    {
     "name": "stdout",
     "output_type": "stream",
     "text": [
      "               A             B         C   D\n",
      "0   2.660000e+45  2.350000e+44  0.000065   1\n",
      "1   3.990000e+43  1.560000e+43  0.003847   2\n",
      "2   3.690000e+44  1.900000e+44  0.000019   3\n",
      "3   3.470000e+45  1.280000e+43  0.000015   4\n",
      "4   5.480000e+43  4.060000e+43  0.000020   5\n",
      "..           ...           ...       ...  ..\n",
      "66  1.180000e+45  5.450000e+43  0.000131  67\n",
      "67  1.820000e+44  3.360000e+43  0.000145  68\n",
      "68  5.560000e+44  5.120000e+43  0.000138  69\n",
      "69  9.080000e+44  5.850000e+43  0.000846  70\n",
      "70  5.440000e+44  1.100000e+44  0.000133  71\n",
      "\n",
      "[71 rows x 4 columns]\n"
     ]
    }
   ],
   "source": [
    "data=pd.read_csv('UV_SIGMA_U.csv',header=0,)\n",
    "data = data.dropna(how='any')#quita los valores nan del documento\n",
    "x=data.iloc[:,0]\n",
    "y=data.iloc[:,2]\n",
    "w=data.iloc[:,1]\n",
    "\n",
    "#print(stats.stdev(x))\n",
    "print(data)"
   ]
  },
  {
   "cell_type": "code",
   "execution_count": 45,
   "id": "3a20f3d6",
   "metadata": {
    "scrolled": false
   },
   "outputs": [
    {
     "data": {
      "text/html": [
       "<div>\n",
       "<style scoped>\n",
       "    .dataframe tbody tr th:only-of-type {\n",
       "        vertical-align: middle;\n",
       "    }\n",
       "\n",
       "    .dataframe tbody tr th {\n",
       "        vertical-align: top;\n",
       "    }\n",
       "\n",
       "    .dataframe thead th {\n",
       "        text-align: right;\n",
       "    }\n",
       "</style>\n",
       "<table border=\"1\" class=\"dataframe\">\n",
       "  <thead>\n",
       "    <tr style=\"text-align: right;\">\n",
       "      <th></th>\n",
       "      <th>A</th>\n",
       "      <th>B</th>\n",
       "      <th>C</th>\n",
       "      <th>D</th>\n",
       "    </tr>\n",
       "  </thead>\n",
       "  <tbody>\n",
       "    <tr>\n",
       "      <th>count</th>\n",
       "      <td>7.100000e+01</td>\n",
       "      <td>7.100000e+01</td>\n",
       "      <td>7.100000e+01</td>\n",
       "      <td>71.000000</td>\n",
       "    </tr>\n",
       "    <tr>\n",
       "      <th>mean</th>\n",
       "      <td>1.541797e+45</td>\n",
       "      <td>1.996859e+44</td>\n",
       "      <td>2.095958e-02</td>\n",
       "      <td>36.000000</td>\n",
       "    </tr>\n",
       "    <tr>\n",
       "      <th>std</th>\n",
       "      <td>2.187646e+45</td>\n",
       "      <td>2.108149e+44</td>\n",
       "      <td>1.644335e-01</td>\n",
       "      <td>20.639767</td>\n",
       "    </tr>\n",
       "    <tr>\n",
       "      <th>min</th>\n",
       "      <td>2.810000e+43</td>\n",
       "      <td>4.453430e+00</td>\n",
       "      <td>4.534565e-18</td>\n",
       "      <td>1.000000</td>\n",
       "    </tr>\n",
       "    <tr>\n",
       "      <th>25%</th>\n",
       "      <td>3.570000e+44</td>\n",
       "      <td>5.400000e+43</td>\n",
       "      <td>7.433660e-05</td>\n",
       "      <td>18.500000</td>\n",
       "    </tr>\n",
       "    <tr>\n",
       "      <th>50%</th>\n",
       "      <td>8.450000e+44</td>\n",
       "      <td>1.170000e+44</td>\n",
       "      <td>1.540140e-04</td>\n",
       "      <td>36.000000</td>\n",
       "    </tr>\n",
       "    <tr>\n",
       "      <th>75%</th>\n",
       "      <td>1.795000e+45</td>\n",
       "      <td>2.735000e+44</td>\n",
       "      <td>8.782996e-04</td>\n",
       "      <td>53.500000</td>\n",
       "    </tr>\n",
       "    <tr>\n",
       "      <th>max</th>\n",
       "      <td>1.340000e+46</td>\n",
       "      <td>1.150000e+45</td>\n",
       "      <td>1.386519e+00</td>\n",
       "      <td>71.000000</td>\n",
       "    </tr>\n",
       "  </tbody>\n",
       "</table>\n",
       "</div>"
      ],
      "text/plain": [
       "                  A             B             C          D\n",
       "count  7.100000e+01  7.100000e+01  7.100000e+01  71.000000\n",
       "mean   1.541797e+45  1.996859e+44  2.095958e-02  36.000000\n",
       "std    2.187646e+45  2.108149e+44  1.644335e-01  20.639767\n",
       "min    2.810000e+43  4.453430e+00  4.534565e-18   1.000000\n",
       "25%    3.570000e+44  5.400000e+43  7.433660e-05  18.500000\n",
       "50%    8.450000e+44  1.170000e+44  1.540140e-04  36.000000\n",
       "75%    1.795000e+45  2.735000e+44  8.782996e-04  53.500000\n",
       "max    1.340000e+46  1.150000e+45  1.386519e+00  71.000000"
      ]
     },
     "execution_count": 45,
     "metadata": {},
     "output_type": "execute_result"
    }
   ],
   "source": [
    "data.describe()"
   ]
  },
  {
   "cell_type": "code",
   "execution_count": 46,
   "id": "3335cb1d",
   "metadata": {
    "scrolled": false
   },
   "outputs": [
    {
     "data": {
      "image/png": "[encoded data removed]",
      "text/plain": [
       "<Figure size 432x288 with 2 Axes>"
      ]
     },
     "metadata": {
      "needs_background": "light"
     },
     "output_type": "display_data"
    }
   ],
   "source": [
    "corr = data.set_index('D').corr()\n",
    "sm.graphics.plot_corr(corr, xnames=list(corr.columns))\n",
    "plt.show()"
   ]
  },
  {
   "cell_type": "code",
   "execution_count": 47,
   "id": "ba8deb6f",
   "metadata": {},
   "outputs": [
    {
     "data": {
      "text/plain": [
       "(1.5417971830985915e+45, 0.02095957918423245)"
      ]
     },
     "execution_count": 47,
     "metadata": {},
     "output_type": "execute_result"
    }
   ],
   "source": [
    "x_mean = np.mean(x)\n",
    "y_mean = np.mean(y)\n",
    "x_mean,y_mean"
   ]
  },
  {
   "cell_type": "code",
   "execution_count": 48,
   "id": "a8404f37",
   "metadata": {},
   "outputs": [
    {
     "name": "stdout",
     "output_type": "stream",
     "text": [
      "pendiente b1  4.887053452744391e-47\n",
      "intercepción b0 is -0.05438887328670303\n"
     ]
    },
    {
     "data": {
      "image/png": "[encoded data removed]",
      "text/plain": [
       "<Figure size 432x288 with 1 Axes>"
      ]
     },
     "metadata": {
      "needs_background": "light"
     },
     "output_type": "display_data"
    }
   ],
   "source": [
    "n = np.size(x)\n",
    "x_mean = np.mean(x)\n",
    "y_mean = np.mean(y)\n",
    "x_mean,y_mean\n",
    "  \n",
    "Sxy = np.sum(x*y)- n*x_mean*y_mean\n",
    "Sxx = np.sum(x*x)-n*x_mean*x_mean\n",
    "  \n",
    "b1 = Sxy/Sxx\n",
    "b0 = y_mean-b1*x_mean\n",
    "print('pendiente b1 ', b1)\n",
    "print('intercepción b0 is', b0)\n",
    "  \n",
    "plt.scatter(x,y)\n",
    "xerror = w\n",
    "plt.errorbar(x,y,xerr=xerror, fmt = ' ' , ecolor='blue')\n",
    "plt.title(\"Luminosidad_UV\")\n",
    "\n",
    "y_pred = b1 * x + b0\n",
    "  \n",
    "plt.scatter(x, y, color = 'red')\n",
    "plt.plot(x, y_pred, color = 'green')\n",
    "plt.xlabel('erg/seg')\n",
    "plt.ylabel('SIGMA_U')\n",
    "plt.savefig(\"Luminosidad_UV_SIGMA U .pdf\")"
   ]
  }
 ],
 "metadata": {
  "kernelspec": {
   "display_name": "Python 3",
   "language": "python",
   "name": "python3"
  },
  "language_info": {
   "codemirror_mode": {
    "name": "ipython",
    "version": 3
   },
   "file_extension": ".py",
   "mimetype": "text/x-python",
   "name": "python",
   "nbconvert_exporter": "python",
   "pygments_lexer": "ipython3",
   "version": "3.6.9"
  }
 },
 "nbformat": 4,
 "nbformat_minor": 5
}
