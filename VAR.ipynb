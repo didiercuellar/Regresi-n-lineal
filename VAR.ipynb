{
 "cells": [
  {
   "cell_type": "code",
   "execution_count": 1,
   "metadata": {},
   "outputs": [],
   "source": [
    "import pandas as pd \n",
    "import numpy as np \n",
    "import scipy.stats as st \n",
    "from scipy.interpolate import interp1d\n",
    "from matplotlib import pyplot as plt \n",
    "import math\n",
    "import statistics as stats\n",
    "from sklearn.linear_model import LinearRegression\n",
    "from sklearn.metrics import mean_squared_error, r2_score\n",
    "import statsmodels.api as sm\n",
    "from sklearn.preprocessing import StandardScaler\n",
    "from sklearn.linear_model import LogisticRegression\n",
    "from sklearn.preprocessing import PolynomialFeatures "
   ]
  },
  {
   "cell_type": "code",
   "execution_count": 2,
   "metadata": {},
   "outputs": [
    {
     "name": "stdout",
     "output_type": "stream",
     "text": [
      "0.32046020061592506\n",
      "           A         B         C        D\n",
      "0   0.035911  0.045538  45.32733  0.31478\n",
      "1   0.048223  0.039569  44.51848  0.07224\n",
      "2   0.404977  0.606289  44.32612  0.01430\n",
      "3   0.025107  0.033440  44.69770  0.00526\n",
      "4   0.089001  0.134069  44.30242  0.01505\n",
      "..       ...       ...       ...      ...\n",
      "65  0.122797  0.167878  44.54921  0.06313\n",
      "66  0.028120  0.031794  44.65970  0.01427\n",
      "67  0.021182  0.034424  44.79900  0.00287\n",
      "68  0.042017  0.033025  44.18964  0.16066\n",
      "69  0.019305  0.023255  44.25669  0.01856\n",
      "\n",
      "[70 rows x 4 columns]\n"
     ]
    }
   ],
   "source": [
    "data=pd.read_csv('VAR_U.csv',header=0,)\n",
    "data = data.dropna(how='any')#quita los valores nan del documento\n",
    "y=data.iloc[:,0]\n",
    "w=data.iloc[:,1]\n",
    "x=data.iloc[:,2]\n",
    "z=data.iloc[:,3]\n",
    "print(stats.stdev(x))\n",
    "print(data)"
   ]
  },
  {
   "cell_type": "code",
   "execution_count": 3,
   "metadata": {},
   "outputs": [
    {
     "name": "stdout",
     "output_type": "stream",
     "text": [
      "pendiente b1  -0.0006477085669187214\n",
      "intercepción b0 is 0.0913775295147059\n"
     ]
    },
    {
     "data": {
      "image/png": "[encoded data removed]",
      "text/plain": [
       "<Figure size 432x288 with 1 Axes>"
      ]
     },
     "metadata": {
      "needs_background": "light"
     },
     "output_type": "display_data"
    }
   ],
   "source": [
    "n = np.size(x)\n",
    "x_mean = np.mean(x)\n",
    "y_mean = np.mean(y)\n",
    "x_mean,y_mean\n",
    "  \n",
    "Sxy = np.sum(x*y)- n*x_mean*y_mean\n",
    "Sxx = np.sum(x*x)-n*x_mean*x_mean\n",
    "  \n",
    "b1 = Sxy/Sxx\n",
    "b0 = y_mean-b1*x_mean\n",
    "print('pendiente b1 ', b1)\n",
    "print('intercepción b0 is', b0)\n",
    "  \n",
    "plt.scatter(x,y)\n",
    "xerror = z\n",
    "plt.errorbar(x,y,xerr=xerror, fmt = ' ' , ecolor='blue')\n",
    "plt.title(\"Luminosidad_5100\")\n",
    "\n",
    "y_pred = b1 * x + b0\n",
    "  \n",
    "plt.scatter(x, y, color = 'red')\n",
    "plt.plot(x, y_pred, color = 'green')\n",
    "plt.xlabel('erg/seg')\n",
    "plt.ylabel('VAR_U')\n",
    "plt.savefig(\"Luminosidad_5100_VAR_U.pdf\")"
   ]
  },
  {
   "cell_type": "code",
   "execution_count": 4,
   "metadata": {},
   "outputs": [
    {
     "name": "stdout",
     "output_type": "stream",
     "text": [
      "Pendiente : [[-6.47708567e-04]\n",
      " [-4.26919076e-03]\n",
      " [ 1.00000000e+00]]\n",
      "Intercepción: [0.09137753 0.26117593 0.        ]\n",
      "Errorcuadratico medio : 0.003982702427025232\n",
      "Raiz del error cuadratico medio:  0.06310865572189946\n",
      " Coeficiente de determinacion R2 :  0.33341845594210157\n"
     ]
    }
   ],
   "source": [
    "x=np.array(data.iloc[:,2:-1])\n",
    "y=np.array(data.iloc[:,:-1])\n",
    "x = x.reshape(-1,1)\n",
    "regression_model = LinearRegression()\n",
    "regression_model.fit(x, y)\n",
    "y_predicted = regression_model.predict(x)\n",
    "mse=mean_squared_error(y,y_predicted)\n",
    "rmse = np.sqrt(mean_squared_error(y, y_predicted))\n",
    "r2 = r2_score(y, y_predicted)\n",
    "print('Pendiente :' ,regression_model.coef_)\n",
    "print('Intercepción:', regression_model.intercept_)\n",
    "print('Errorcuadratico medio :',mse)\n",
    "print('Raiz del error cuadratico medio: ', rmse)\n",
    "print(' Coeficiente de determinacion R2 : ', r2)"
   ]
  },
  {
   "cell_type": "code",
   "execution_count": 5,
   "metadata": {},
   "outputs": [
    {
     "name": "stdout",
     "output_type": "stream",
     "text": [
      "0.3149958895049263\n",
      "           A         B         C        D\n",
      "0   0.013527  0.008661  45.32733  0.31478\n",
      "1   0.017699  0.009798  44.51848  0.07224\n",
      "2   0.243050  0.294363  44.32612  0.01430\n",
      "3   0.016140  0.023448  44.69770  0.00526\n",
      "4   0.027366  0.014149  44.30242  0.01505\n",
      "..       ...       ...       ...      ...\n",
      "76  0.106895  0.091779  44.36424  0.00708\n",
      "77  0.018196  0.016266  44.17580  0.04911\n",
      "78  0.031760  0.043204  44.40151  0.00523\n",
      "79  0.038302  0.025455  44.20654  0.02390\n",
      "80  0.008960  0.011796  44.59746  0.00671\n",
      "\n",
      "[81 rows x 4 columns]\n"
     ]
    }
   ],
   "source": [
    "data=pd.read_csv('VAR_G.csv',header=0,)\n",
    "data = data.dropna(how='any')#quita los valores nan del documento\n",
    "y=data.iloc[:,0]\n",
    "w=data.iloc[:,1]\n",
    "x=data.iloc[:,2]\n",
    "z=data.iloc[:,3]\n",
    "print(stats.stdev(x))\n",
    "print(data)"
   ]
  },
  {
   "cell_type": "code",
   "execution_count": 8,
   "metadata": {},
   "outputs": [
    {
     "name": "stdout",
     "output_type": "stream",
     "text": [
      "pendiente b1  -0.015604699143219164\n",
      "intercepción b0 is 0.7315708844715595\n"
     ]
    },
    {
     "data": {
      "image/png": "[encoded data removed]",
      "text/plain": [
       "<Figure size 432x288 with 1 Axes>"
      ]
     },
     "metadata": {
      "needs_background": "light"
     },
     "output_type": "display_data"
    }
   ],
   "source": [
    "n = np.size(x)\n",
    "x_mean = np.mean(x)\n",
    "y_mean = np.mean(y)\n",
    "x_mean,y_mean\n",
    "  \n",
    "Sxy = np.sum(x*y)- n*x_mean*y_mean\n",
    "Sxx = np.sum(x*x)-n*x_mean*x_mean\n",
    "  \n",
    "b1 = Sxy/Sxx\n",
    "b0 = y_mean-b1*x_mean\n",
    "print('pendiente b1 ', b1)\n",
    "print('intercepción b0 is', b0)\n",
    "  \n",
    "plt.scatter(x,y)\n",
    "xerror = z\n",
    "plt.errorbar(x,y,xerr=xerror, fmt = ' ' , ecolor='blue')\n",
    "plt.title(\"Luminosidad_5100\")\n",
    "\n",
    "y_pred = b1 * x + b0\n",
    "  \n",
    "plt.scatter(x, y, color = 'red')\n",
    "plt.plot(x, y_pred, color = 'green')\n",
    "plt.xlabel('erg/seg')\n",
    "plt.ylabel('VAR_G')\n",
    "plt.savefig(\"Luminosidad_5100_VAR_G.pdf\")"
   ]
  },
  {
   "cell_type": "code",
   "execution_count": 9,
   "metadata": {},
   "outputs": [
    {
     "name": "stdout",
     "output_type": "stream",
     "text": [
      "Pendiente : [[-0.0156047 ]\n",
      " [-0.01509573]\n",
      " [ 1.        ]]\n",
      "Intercepción: [ 7.31570884e-01  7.11213394e-01 -2.13162821e-14]\n",
      "Errorcuadratico medio : 0.0015907998221102544\n",
      "Raiz del error cuadratico medio:  0.039884831980469146\n",
      " Coeficiente de determinacion R2 :  0.3398025434492455\n"
     ]
    }
   ],
   "source": [
    "x=np.array(data.iloc[:,2:-1])\n",
    "y=np.array(data.iloc[:,:-1])\n",
    "x = x.reshape(-1,1)\n",
    "regression_model = LinearRegression()\n",
    "regression_model.fit(x, y)\n",
    "y_predicted = regression_model.predict(x)\n",
    "mse=mean_squared_error(y,y_predicted)\n",
    "rmse = np.sqrt(mean_squared_error(y, y_predicted))\n",
    "r2 = r2_score(y, y_predicted)\n",
    "print('Pendiente :' ,regression_model.coef_)\n",
    "print('Intercepción:', regression_model.intercept_)\n",
    "print('Errorcuadratico medio :',mse)\n",
    "print('Raiz del error cuadratico medio: ', rmse)\n",
    "print(' Coeficiente de determinacion R2 : ', r2)"
   ]
  },
  {
   "cell_type": "code",
   "execution_count": 10,
   "metadata": {},
   "outputs": [
    {
     "name": "stdout",
     "output_type": "stream",
     "text": [
      "0.3123274552395519\n",
      "           A         B         C        D\n",
      "0   0.011296  0.011861  45.32733  0.31478\n",
      "1   0.022475  0.012813  44.51848  0.07224\n",
      "2   0.206401  0.269515  44.32612  0.01430\n",
      "3   0.013742  0.017776  44.69770  0.00526\n",
      "4   0.032052  0.041231  44.30242  0.01505\n",
      "..       ...       ...       ...      ...\n",
      "80  0.106862  0.096957  44.59746  0.00671\n",
      "81  0.017548  0.018414  44.17015  0.06091\n",
      "82  0.028546  0.034991  44.31297  0.01773\n",
      "83  0.045649  0.028855  44.52867  0.01500\n",
      "84  0.008369  0.007792  44.68251  0.01940\n",
      "\n",
      "[85 rows x 4 columns]\n"
     ]
    }
   ],
   "source": [
    "data=pd.read_csv('VAR_R.csv',header=0,)\n",
    "data = data.dropna(how='any')#quita los valores nan del documento\n",
    "y=data.iloc[:,0]\n",
    "w=data.iloc[:,1]\n",
    "x=data.iloc[:,2]\n",
    "z=data.iloc[:,3]\n",
    "print(stats.stdev(x))\n",
    "print(data)"
   ]
  },
  {
   "cell_type": "code",
   "execution_count": 11,
   "metadata": {},
   "outputs": [
    {
     "name": "stdout",
     "output_type": "stream",
     "text": [
      "pendiente b1  -0.015604699143219164\n",
      "intercepción b0 is 0.7315708844715595\n"
     ]
    },
    {
     "data": {
      "image/png": "[encoded data removed]",
      "text/plain": [
       "<Figure size 432x288 with 1 Axes>"
      ]
     },
     "metadata": {
      "needs_background": "light"
     },
     "output_type": "display_data"
    }
   ],
   "source": [
    "n = np.size(x)\n",
    "x_mean = np.mean(x)\n",
    "y_mean = np.mean(y)\n",
    "x_mean,y_mean\n",
    "  \n",
    "Sxy = np.sum(x*y)- n*x_mean*y_mean\n",
    "Sxx = np.sum(x*x)-n*x_mean*x_mean\n",
    "  \n",
    "b1 = Sxy/Sxx\n",
    "b0 = y_mean-b1*x_mean\n",
    "print('pendiente b1 ', b1)\n",
    "print('intercepción b0 is', b0)\n",
    "  \n",
    "plt.scatter(x,y)\n",
    "xerror = z\n",
    "plt.errorbar(x,y,xerr=xerror, fmt = ' ' , ecolor='blue')\n",
    "plt.title(\"Luminosidad_5100\")\n",
    "\n",
    "y_pred = b1 * x + b0\n",
    "  \n",
    "plt.scatter(x, y, color = 'red')\n",
    "plt.plot(x, y_pred, color = 'green')\n",
    "plt.xlabel('erg/seg')\n",
    "plt.ylabel('VAR_R')\n",
    "plt.savefig(\"Luminosidad_5100_VAR_R.pdf\")"
   ]
  },
  {
   "cell_type": "code",
   "execution_count": 12,
   "metadata": {},
   "outputs": [
    {
     "name": "stdout",
     "output_type": "stream",
     "text": [
      "Pendiente : [[-0.0156047 ]\n",
      " [-0.01509573]\n",
      " [ 1.        ]]\n",
      "Intercepción: [ 7.31570884e-01  7.11213394e-01 -2.13162821e-14]\n",
      "Errorcuadratico medio : 0.0015907998221102544\n",
      "Raiz del error cuadratico medio:  0.039884831980469146\n",
      " Coeficiente de determinacion R2 :  0.3398025434492455\n"
     ]
    }
   ],
   "source": [
    "x=np.array(data.iloc[:,2:-1])\n",
    "y=np.array(data.iloc[:,:-1])\n",
    "x = x.reshape(-1,1)\n",
    "regression_model = LinearRegression()\n",
    "regression_model.fit(x, y)\n",
    "y_predicted = regression_model.predict(x)\n",
    "mse=mean_squared_error(y,y_predicted)\n",
    "rmse = np.sqrt(mean_squared_error(y, y_predicted))\n",
    "r2 = r2_score(y, y_predicted)\n",
    "print('Pendiente :' ,regression_model.coef_)\n",
    "print('Intercepción:', regression_model.intercept_)\n",
    "print('Errorcuadratico medio :',mse)\n",
    "print('Raiz del error cuadratico medio: ', rmse)\n",
    "print(' Coeficiente de determinacion R2 : ', r2)"
   ]
  },
  {
   "cell_type": "code",
   "execution_count": 13,
   "metadata": {},
   "outputs": [
    {
     "name": "stdout",
     "output_type": "stream",
     "text": [
      "0.31399638095223986\n",
      "           A         B         C        D\n",
      "0   0.006402  0.004100  45.32733  0.31478\n",
      "1   0.015817  0.009129  44.51848  0.07224\n",
      "2   0.221103  0.283365  44.32612  0.01430\n",
      "3   0.008726  0.008751  44.69770  0.00526\n",
      "4   0.012007  0.007486  44.30242  0.01505\n",
      "..       ...       ...       ...      ...\n",
      "79  0.071000  0.105262  44.20654  0.02390\n",
      "80  0.017609  0.021547  44.59746  0.00671\n",
      "81  0.015826  0.008261  44.17015  0.06091\n",
      "82  0.030691  0.018299  44.31297  0.01773\n",
      "83  0.005740  0.004063  44.52867  0.01500\n",
      "\n",
      "[84 rows x 4 columns]\n"
     ]
    }
   ],
   "source": [
    "data=pd.read_csv('VAR_I.csv',header=0,)\n",
    "data = data.dropna(how='any')#quita los valores nan del documento\n",
    "y=data.iloc[:,0]\n",
    "w=data.iloc[:,1]\n",
    "x=data.iloc[:,2]\n",
    "z=data.iloc[:,3]\n",
    "print(stats.stdev(x))\n",
    "print(data)"
   ]
  },
  {
   "cell_type": "code",
   "execution_count": 14,
   "metadata": {},
   "outputs": [
    {
     "name": "stdout",
     "output_type": "stream",
     "text": [
      "pendiente b1  0.003579760701316875\n",
      "intercepción b0 is -0.13198298078209553\n"
     ]
    },
    {
     "data": {
      "image/png": "[encoded data removed]",
      "text/plain": [
       "<Figure size 432x288 with 1 Axes>"
      ]
     },
     "metadata": {
      "needs_background": "light"
     },
     "output_type": "display_data"
    }
   ],
   "source": [
    "n = np.size(x)\n",
    "x_mean = np.mean(x)\n",
    "y_mean = np.mean(y)\n",
    "x_mean,y_mean\n",
    "  \n",
    "Sxy = np.sum(x*y)- n*x_mean*y_mean\n",
    "Sxx = np.sum(x*x)-n*x_mean*x_mean\n",
    "  \n",
    "b1 = Sxy/Sxx\n",
    "b0 = y_mean-b1*x_mean\n",
    "print('pendiente b1 ', b1)\n",
    "print('intercepción b0 is', b0)\n",
    "  \n",
    "plt.scatter(x,y)\n",
    "xerror = z\n",
    "plt.errorbar(x,y,xerr=xerror, fmt = ' ' , ecolor='blue')\n",
    "plt.title(\"Luminosidad_5100\")\n",
    "\n",
    "y_pred = b1 * x + b0\n",
    "  \n",
    "plt.scatter(x, y, color = 'red')\n",
    "plt.plot(x, y_pred, color = 'green')\n",
    "plt.xlabel('erg/seg')\n",
    "plt.ylabel('VAR_I')\n",
    "plt.savefig(\"Luminosidad_5100_VAR_I.pdf\")"
   ]
  },
  {
   "cell_type": "code",
   "execution_count": 15,
   "metadata": {},
   "outputs": [
    {
     "name": "stdout",
     "output_type": "stream",
     "text": [
      "Pendiente : [[0.00357976]\n",
      " [0.00773643]\n",
      " [1.        ]]\n",
      "Intercepción: [-0.13198298 -0.31361075  0.        ]\n",
      "Errorcuadratico medio : 0.0012078759356602767\n",
      "Raiz del error cuadratico medio:  0.034754509573007596\n",
      " Coeficiente de determinacion R2 :  0.33448979779735616\n"
     ]
    }
   ],
   "source": [
    "x=np.array(data.iloc[:,2:-1])\n",
    "y=np.array(data.iloc[:,:-1])\n",
    "x = x.reshape(-1,1)\n",
    "regression_model = LinearRegression()\n",
    "regression_model.fit(x, y)\n",
    "y_predicted = regression_model.predict(x)\n",
    "mse=mean_squared_error(y,y_predicted)\n",
    "rmse = np.sqrt(mean_squared_error(y, y_predicted))\n",
    "r2 = r2_score(y, y_predicted)\n",
    "print('Pendiente :' ,regression_model.coef_)\n",
    "print('Intercepción:', regression_model.intercept_)\n",
    "print('Errorcuadratico medio :',mse)\n",
    "print('Raiz del error cuadratico medio: ', rmse)\n",
    "print(' Coeficiente de determinacion R2 : ', r2)"
   ]
  },
  {
   "cell_type": "code",
   "execution_count": 16,
   "metadata": {},
   "outputs": [
    {
     "name": "stdout",
     "output_type": "stream",
     "text": [
      "0.3149958895049263\n",
      "           A         B         C        D\n",
      "0   0.002346  0.003401  45.32733  0.31478\n",
      "1   0.020644  0.034743  44.51848  0.07224\n",
      "2   0.141805  0.206988  44.32612  0.01430\n",
      "3   0.004277  0.006090  44.69770  0.00526\n",
      "4   0.005045  0.005110  44.30242  0.01505\n",
      "..       ...       ...       ...      ...\n",
      "76  0.092146  0.118662  44.36424  0.00708\n",
      "77  0.019275  0.020649  44.17580  0.04911\n",
      "78  0.025293  0.029845  44.40151  0.00523\n",
      "79  0.024045  0.024407  44.20654  0.02390\n",
      "80  0.000976  0.003682  44.59746  0.00671\n",
      "\n",
      "[81 rows x 4 columns]\n"
     ]
    }
   ],
   "source": [
    "data=pd.read_csv('VAR_Z.csv',header=0,)\n",
    "data = data.dropna(how='any')#quita los valores nan del documento\n",
    "y=data.iloc[:,0]\n",
    "w=data.iloc[:,1]\n",
    "x=data.iloc[:,2]\n",
    "z=data.iloc[:,3]\n",
    "print(stats.stdev(x))\n",
    "print(data)"
   ]
  },
  {
   "cell_type": "code",
   "execution_count": 17,
   "metadata": {},
   "outputs": [
    {
     "name": "stdout",
     "output_type": "stream",
     "text": [
      "pendiente b1  -0.008712984020988666\n",
      "intercepción b0 is 0.40811625303016075\n"
     ]
    },
    {
     "data": {
      "image/png": "[encoded data removed]",
      "text/plain": [
       "<Figure size 432x288 with 1 Axes>"
      ]
     },
     "metadata": {
      "needs_background": "light"
     },
     "output_type": "display_data"
    }
   ],
   "source": [
    "n = np.size(x)\n",
    "x_mean = np.mean(x)\n",
    "y_mean = np.mean(y)\n",
    "x_mean,y_mean\n",
    "  \n",
    "Sxy = np.sum(x*y)- n*x_mean*y_mean\n",
    "Sxx = np.sum(x*x)-n*x_mean*x_mean\n",
    "  \n",
    "b1 = Sxy/Sxx\n",
    "b0 = y_mean-b1*x_mean\n",
    "print('pendiente b1 ', b1)\n",
    "print('intercepción b0 is', b0)\n",
    "  \n",
    "plt.scatter(x,y)\n",
    "xerror = z\n",
    "plt.errorbar(x,y,xerr=xerror, fmt = ' ' , ecolor='blue')\n",
    "plt.title(\"Luminosidad_5100\")\n",
    "\n",
    "y_pred = b1 * x + b0\n",
    "  \n",
    "plt.scatter(x, y, color = 'red')\n",
    "plt.plot(x, y_pred, color = 'green')\n",
    "plt.xlabel('erg/seg')\n",
    "plt.ylabel('VAR_Z')\n",
    "plt.savefig(\"Luminosidad_5100_VAR_Z.pdf\")"
   ]
  },
  {
   "cell_type": "code",
   "execution_count": 18,
   "metadata": {},
   "outputs": [
    {
     "name": "stdout",
     "output_type": "stream",
     "text": [
      "Pendiente : [[-0.00871298]\n",
      " [-0.00960995]\n",
      " [ 1.        ]]\n",
      "Intercepción: [4.08116253e-01 4.55534223e-01 1.42108547e-14]\n",
      "Errorcuadratico medio : 0.000570523854745806\n",
      "Raiz del error cuadratico medio:  0.023885641183476865\n",
      " Coeficiente de determinacion R2 :  0.34021569554400305\n"
     ]
    }
   ],
   "source": [
    "x=np.array(data.iloc[:,2:-1])\n",
    "y=np.array(data.iloc[:,:-1])\n",
    "x = x.reshape(-1,1)\n",
    "regression_model = LinearRegression()\n",
    "regression_model.fit(x, y)\n",
    "y_predicted = regression_model.predict(x)\n",
    "mse=mean_squared_error(y,y_predicted)\n",
    "rmse = np.sqrt(mean_squared_error(y, y_predicted))\n",
    "r2 = r2_score(y, y_predicted)\n",
    "print('Pendiente :' ,regression_model.coef_)\n",
    "print('Intercepción:', regression_model.intercept_)\n",
    "print('Errorcuadratico medio :',mse)\n",
    "print('Raiz del error cuadratico medio: ', rmse)\n",
    "print(' Coeficiente de determinacion R2 : ', r2)"
   ]
  }
 ],
 "metadata": {
  "kernelspec": {
   "display_name": "Python 3",
   "language": "python",
   "name": "python3"
  },
  "language_info": {
   "codemirror_mode": {
    "name": "ipython",
    "version": 3
   },
   "file_extension": ".py",
   "mimetype": "text/x-python",
   "name": "python",
   "nbconvert_exporter": "python",
   "pygments_lexer": "ipython3",
   "version": "3.6.9"
  }
 },
 "nbformat": 4,
 "nbformat_minor": 4
}
